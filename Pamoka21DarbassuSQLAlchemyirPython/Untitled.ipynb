{
 "cells": [
  {
   "cell_type": "code",
   "execution_count": 1,
   "id": "2dbc6f2f-8185-4af5-bdee-5262ced65d3a",
   "metadata": {},
   "outputs": [],
   "source": [
    "%load_ext sql\n",
    "%sql sqlite:///mokykla.db"
   ]
  },
  {
   "cell_type": "code",
   "execution_count": 2,
   "id": "32590bdd-bb19-4ab7-84ca-608543c03d7d",
   "metadata": {},
   "outputs": [
    {
     "name": "stdout",
     "output_type": "stream",
     "text": [
      " * sqlite:///mokykla.db\n",
      "Done.\n"
     ]
    },
    {
     "data": {
      "text/plain": [
       "[]"
      ]
     },
     "execution_count": 2,
     "metadata": {},
     "output_type": "execute_result"
    }
   ],
   "source": [
    "%%sql\n",
    "CREATE TABLE IF NOT EXISTS mokytojai (\n",
    "    id INTEGER PRIMARY KEY,\n",
    "    vardas TEXT,\n",
    "    pavarde TEXT,\n",
    "    dalykas TEXT,\n",
    "    atlyginimas INTEGER\n",
    ");\n"
   ]
  },
  {
   "cell_type": "code",
   "execution_count": null,
   "id": "cda86068-95a0-4eaa-a6a9-38af6628d185",
   "metadata": {},
   "outputs": [],
   "source": []
  }
 ],
 "metadata": {
  "kernelspec": {
   "display_name": "Python 3 (ipykernel)",
   "language": "python",
   "name": "python3"
  },
  "language_info": {
   "codemirror_mode": {
    "name": "ipython",
    "version": 3
   },
   "file_extension": ".py",
   "mimetype": "text/x-python",
   "name": "python",
   "nbconvert_exporter": "python",
   "pygments_lexer": "ipython3",
   "version": "3.10.11"
  }
 },
 "nbformat": 4,
 "nbformat_minor": 5
}
