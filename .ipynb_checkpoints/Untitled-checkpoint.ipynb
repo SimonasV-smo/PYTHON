{
 "cells": [
  {
   "cell_type": "code",
   "execution_count": null,
   "id": "9caf59f3-089f-413e-9909-b8f49cef4df2",
   "metadata": {},
   "outputs": [],
   "source": [
    "!pip install ipython-sql\n",
    "%load_ext sql\n",
    "%sql sqlite:///C:/Users/User/Desktop/PYTHON/Pamoka 21 Darbas su SQLAlchemy ir Python/mokykla.db\n"
   ]
  }
 ],
 "metadata": {
  "kernelspec": {
   "display_name": "Python 3 (ipykernel)",
   "language": "python",
   "name": "python3"
  },
  "language_info": {
   "codemirror_mode": {
    "name": "ipython",
    "version": 3
   },
   "file_extension": ".py",
   "mimetype": "text/x-python",
   "name": "python",
   "nbconvert_exporter": "python",
   "pygments_lexer": "ipython3",
   "version": "3.10.11"
  }
 },
 "nbformat": 4,
 "nbformat_minor": 5
}
